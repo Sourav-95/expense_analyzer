{
 "cells": [
  {
   "cell_type": "code",
   "execution_count": 1,
   "metadata": {},
   "outputs": [],
   "source": [
    "import sys\n",
    "import os\n",
    "import pandas as pd\n",
    "from src.components.ETL_manager import DataIngestor\n",
    "from src.components.ETL_manager import DataProcessor\n",
    "\n",
    "input_file = r'/raw_file/915010018577756.csv'\n",
    "input_file = os.getcwd()+input_file\n",
    "\n",
    "# Example usage\n",
    "try:\n",
    "    df = DataIngestor.read_csv_files(\n",
    "        file_path=input_file, \n",
    "        header_identifier='Tran Date', \n",
    "        footer_identifier='Charge breakup'\n",
    "        )\n",
    "except TypeError as e:\n",
    "    raise(f'error occured: {e}')\n",
    "\n",
    "df = DataProcessor.remap_transactions(data=df, transaction_col_name=\"PARTICULARS\")"
   ]
  },
  {
   "cell_type": "code",
   "execution_count": 3,
   "metadata": {},
   "outputs": [
    {
     "data": {
      "text/plain": [
       "Tran Date      object\n",
       "CHQNO          object\n",
       "PARTICULARS    object\n",
       "DR             object\n",
       "CR             object\n",
       "BAL            object\n",
       "SOL            object\n",
       "dtype: object"
      ]
     },
     "execution_count": 3,
     "metadata": {},
     "output_type": "execute_result"
    }
   ],
   "source": [
    "df.dtypes"
   ]
  },
  {
   "cell_type": "code",
   "execution_count": null,
   "metadata": {},
   "outputs": [],
   "source": []
  }
 ],
 "metadata": {
  "kernelspec": {
   "display_name": ".venv",
   "language": "python",
   "name": "python3"
  },
  "language_info": {
   "codemirror_mode": {
    "name": "ipython",
    "version": 3
   },
   "file_extension": ".py",
   "mimetype": "text/x-python",
   "name": "python",
   "nbconvert_exporter": "python",
   "pygments_lexer": "ipython3",
   "version": "3.12.4"
  }
 },
 "nbformat": 4,
 "nbformat_minor": 2
}
